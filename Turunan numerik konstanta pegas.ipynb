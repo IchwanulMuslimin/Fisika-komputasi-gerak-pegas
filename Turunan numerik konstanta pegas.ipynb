{
 "cells": [
  {
   "cell_type": "markdown",
   "metadata": {},
   "source": [
    "# A. Konstanta Pegas \n",
    "### 1. Turunan persamaan konstanta pegas 1D\n",
    "Persamaan gerak pada pegas berdasarkan persamaan :\n",
    "$$F = -kx$$\n",
    "dengan mendefinisikan bahwa $F =ma$ sehingga persamaan diatas dapat diubah menjadi :\n",
    "$$ma = -kx $$\n",
    "$$a = \\frac{-k}{m}x$$\n",
    "\n",
    "pada tugas ini diasumsikan bahwa nilai k = 10 dan m = 10\n",
    "### 2. Metode Verlet Versi Posisi\n",
    "Dengan metode verlet yang digunakan adalah :\n",
    "$$x_{n-1} = x_n - v_n\\Delta t + \\frac{1}{2} a_n(\\Delta t)^2$$\n",
    "$$x_{n+1} = x_n + v_n\\Delta t + \\frac{1}{2} a_n(\\Delta t)^2$$\n",
    "\n",
    "Denga mengasumsikan $x_1 $ sebagai :\n",
    "$$x_1 = x_0 + v_0\\Delta t + \\frac{1}{2}a_0(\\Delta t)^2$$\n",
    "dan $x_{n-1}= x_0$\n",
    "\n",
    "Metode verlet posisi yang digunakan :\n",
    "$$x_{n+1} = 2x_n - x_{n-1} +a_{x,n}(\\Delta t)^2$$"
   ]
  }
 ],
 "metadata": {
  "kernelspec": {
   "display_name": "Python 3",
   "language": "python",
   "name": "python3"
  },
  "language_info": {
   "codemirror_mode": {
    "name": "ipython",
    "version": 3
   },
   "file_extension": ".py",
   "mimetype": "text/x-python",
   "name": "python",
   "nbconvert_exporter": "python",
   "pygments_lexer": "ipython3",
   "version": "3.8.5"
  }
 },
 "nbformat": 4,
 "nbformat_minor": 4
}
